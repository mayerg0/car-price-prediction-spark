{
 "cells": [
  {
   "cell_type": "markdown",
   "metadata": {},
   "source": [
    "# Car Price Prediction Using Spark"
   ]
  },
  {
   "cell_type": "markdown",
   "metadata": {
    "id": "furYNSqvb1B_"
   },
   "source": [
    "## 1 - Install Spark, load required libraries, set environment variables, initiate Spark, load file"
   ]
  },
  {
   "cell_type": "code",
   "execution_count": null,
   "metadata": {
    "id": "lh5NCoc8fsSO"
   },
   "outputs": [],
   "source": [
    "!apt-get install openjdk-8-jdk-headless -qq > /dev/null\n",
    "!wget -q https://downloads.apache.org/spark/spark-2.4.8/spark-2.4.8-bin-hadoop2.7.tgz\n",
    "!tar xf spark-2.4.8-bin-hadoop2.7.tgz\n",
    "!pip install -q findspark"
   ]
  },
  {
   "cell_type": "code",
   "execution_count": null,
   "metadata": {
    "id": "v1b8k_OVf2QF"
   },
   "outputs": [],
   "source": [
    "import os\n",
    "os.environ[\"JAVA_HOME\"] = \"/usr/lib/jvm/java-8-openjdk-amd64\"\n",
    "os.environ[\"SPARK_HOME\"] = \"/content/spark-2.4.8-bin-hadoop2.7\"\n",
    "import findspark\n",
    "findspark.init()\n",
    "from google.colab import files\n",
    "from pyspark.sql import SparkSession\n",
    "from pyspark.ml.feature import VectorAssembler\n",
    "from pyspark.sql.functions import isnan, when, count, col, lit\n",
    "from pyspark.ml.regression import RandomForestRegressor\n",
    "from pyspark.ml.evaluation import RegressionEvaluator\n",
    "from pyspark.ml import Pipeline\n",
    "from pyspark.ml.tuning import CrossValidator\n",
    "from pyspark.ml.evaluation import RegressionEvaluator\n",
    "from pyspark.ml.tuning import ParamGridBuilder\n"
   ]
  },
  {
   "cell_type": "code",
   "execution_count": null,
   "metadata": {
    "id": "swYHjt3AIvbg"
   },
   "outputs": [],
   "source": [
    "sc = SparkSession.builder.master(\"local[*]\").getOrCreate()"
   ]
  },
  {
   "cell_type": "code",
   "execution_count": null,
   "metadata": {},
   "outputs": [],
   "source": [
    "files.upload()"
   ]
  },
  {
   "cell_type": "code",
   "execution_count": null,
   "metadata": {
    "colab": {
     "base_uri": "https://localhost:8080/"
    },
    "id": "r4eYH472ooIE",
    "outputId": "01bcacda-8c9d-4066-d6a8-56912ef4ef8d"
   },
   "outputs": [
    {
     "name": "stdout",
     "output_type": "stream",
     "text": [
      "data.csv  sample_data  spark-2.4.8-bin-hadoop2.7  spark-2.4.8-bin-hadoop2.7.tgz\n"
     ]
    }
   ],
   "source": [
    "!ls"
   ]
  },
  {
   "cell_type": "code",
   "execution_count": null,
   "metadata": {
    "id": "RFhz9n6ZooYc"
   },
   "outputs": [],
   "source": [
    "data = sc.read.csv('data.csv', inferSchema=True, header=True)"
   ]
  },
  {
   "cell_type": "markdown",
   "metadata": {},
   "source": [
    "## 2 - Explore/Clean the data"
   ]
  },
  {
   "cell_type": "code",
   "execution_count": null,
   "metadata": {
    "colab": {
     "base_uri": "https://localhost:8080/",
     "height": 877
    },
    "id": "APOaPcnSpO9U",
    "outputId": "74e38160-80fb-46a3-c1e7-3e329c5046bd"
   },
   "outputs": [
    {
     "name": "stdout",
     "output_type": "stream",
     "text": [
      "root\n",
      " |-- Make: string (nullable = true)\n",
      " |-- Model: string (nullable = true)\n",
      " |-- Year: integer (nullable = true)\n",
      " |-- Engine Fuel Type: string (nullable = true)\n",
      " |-- Engine HP: integer (nullable = true)\n",
      " |-- Engine Cylinders: integer (nullable = true)\n",
      " |-- Transmission Type: string (nullable = true)\n",
      " |-- Driven_Wheels: string (nullable = true)\n",
      " |-- Number of Doors: integer (nullable = true)\n",
      " |-- Market Category: string (nullable = true)\n",
      " |-- Vehicle Size: string (nullable = true)\n",
      " |-- Vehicle Style: string (nullable = true)\n",
      " |-- highway MPG: integer (nullable = true)\n",
      " |-- city mpg: integer (nullable = true)\n",
      " |-- Popularity: integer (nullable = true)\n",
      " |-- MSRP: integer (nullable = true)\n",
      "\n"
     ]
    },
    {
     "data": {
      "text/html": [
       "<div>\n",
       "<style scoped>\n",
       "    .dataframe tbody tr th:only-of-type {\n",
       "        vertical-align: middle;\n",
       "    }\n",
       "\n",
       "    .dataframe tbody tr th {\n",
       "        vertical-align: top;\n",
       "    }\n",
       "\n",
       "    .dataframe thead th {\n",
       "        text-align: right;\n",
       "    }\n",
       "</style>\n",
       "<table border=\"1\" class=\"dataframe\">\n",
       "  <thead>\n",
       "    <tr style=\"text-align: right;\">\n",
       "      <th></th>\n",
       "      <th>0</th>\n",
       "      <th>1</th>\n",
       "      <th>2</th>\n",
       "      <th>3</th>\n",
       "      <th>4</th>\n",
       "    </tr>\n",
       "  </thead>\n",
       "  <tbody>\n",
       "    <tr>\n",
       "      <th>summary</th>\n",
       "      <td>count</td>\n",
       "      <td>mean</td>\n",
       "      <td>stddev</td>\n",
       "      <td>min</td>\n",
       "      <td>max</td>\n",
       "    </tr>\n",
       "    <tr>\n",
       "      <th>Make</th>\n",
       "      <td>11914</td>\n",
       "      <td>None</td>\n",
       "      <td>None</td>\n",
       "      <td>Acura</td>\n",
       "      <td>Volvo</td>\n",
       "    </tr>\n",
       "    <tr>\n",
       "      <th>Model</th>\n",
       "      <td>11914</td>\n",
       "      <td>745.5822222222222</td>\n",
       "      <td>1490.8280590623795</td>\n",
       "      <td>1 Series</td>\n",
       "      <td>xD</td>\n",
       "    </tr>\n",
       "    <tr>\n",
       "      <th>Year</th>\n",
       "      <td>11914</td>\n",
       "      <td>2010.384337753903</td>\n",
       "      <td>7.5797398875957995</td>\n",
       "      <td>1990</td>\n",
       "      <td>2017</td>\n",
       "    </tr>\n",
       "    <tr>\n",
       "      <th>Engine Fuel Type</th>\n",
       "      <td>11911</td>\n",
       "      <td>None</td>\n",
       "      <td>None</td>\n",
       "      <td>diesel</td>\n",
       "      <td>regular unleaded</td>\n",
       "    </tr>\n",
       "    <tr>\n",
       "      <th>Engine HP</th>\n",
       "      <td>11845</td>\n",
       "      <td>249.38607007176023</td>\n",
       "      <td>109.19187025917194</td>\n",
       "      <td>55</td>\n",
       "      <td>1001</td>\n",
       "    </tr>\n",
       "    <tr>\n",
       "      <th>Engine Cylinders</th>\n",
       "      <td>11884</td>\n",
       "      <td>5.628828677213059</td>\n",
       "      <td>1.78055934824622</td>\n",
       "      <td>0</td>\n",
       "      <td>16</td>\n",
       "    </tr>\n",
       "    <tr>\n",
       "      <th>Transmission Type</th>\n",
       "      <td>11914</td>\n",
       "      <td>None</td>\n",
       "      <td>None</td>\n",
       "      <td>AUTOMATED_MANUAL</td>\n",
       "      <td>UNKNOWN</td>\n",
       "    </tr>\n",
       "    <tr>\n",
       "      <th>Driven_Wheels</th>\n",
       "      <td>11914</td>\n",
       "      <td>None</td>\n",
       "      <td>None</td>\n",
       "      <td>all wheel drive</td>\n",
       "      <td>rear wheel drive</td>\n",
       "    </tr>\n",
       "    <tr>\n",
       "      <th>Number of Doors</th>\n",
       "      <td>11908</td>\n",
       "      <td>3.4360933825999327</td>\n",
       "      <td>0.8813153865835529</td>\n",
       "      <td>2</td>\n",
       "      <td>4</td>\n",
       "    </tr>\n",
       "    <tr>\n",
       "      <th>Market Category</th>\n",
       "      <td>11914</td>\n",
       "      <td>None</td>\n",
       "      <td>None</td>\n",
       "      <td>Crossover</td>\n",
       "      <td>Performance,Hybrid</td>\n",
       "    </tr>\n",
       "    <tr>\n",
       "      <th>Vehicle Size</th>\n",
       "      <td>11914</td>\n",
       "      <td>None</td>\n",
       "      <td>None</td>\n",
       "      <td>Compact</td>\n",
       "      <td>Midsize</td>\n",
       "    </tr>\n",
       "    <tr>\n",
       "      <th>Vehicle Style</th>\n",
       "      <td>11914</td>\n",
       "      <td>None</td>\n",
       "      <td>None</td>\n",
       "      <td>2dr Hatchback</td>\n",
       "      <td>Wagon</td>\n",
       "    </tr>\n",
       "    <tr>\n",
       "      <th>highway MPG</th>\n",
       "      <td>11914</td>\n",
       "      <td>26.637485311398354</td>\n",
       "      <td>8.863000766979422</td>\n",
       "      <td>12</td>\n",
       "      <td>354</td>\n",
       "    </tr>\n",
       "    <tr>\n",
       "      <th>city mpg</th>\n",
       "      <td>11914</td>\n",
       "      <td>19.73325499412456</td>\n",
       "      <td>8.987798160299237</td>\n",
       "      <td>7</td>\n",
       "      <td>137</td>\n",
       "    </tr>\n",
       "    <tr>\n",
       "      <th>Popularity</th>\n",
       "      <td>11914</td>\n",
       "      <td>1554.9111969111968</td>\n",
       "      <td>1441.8553466274648</td>\n",
       "      <td>2</td>\n",
       "      <td>5657</td>\n",
       "    </tr>\n",
       "    <tr>\n",
       "      <th>MSRP</th>\n",
       "      <td>11914</td>\n",
       "      <td>40594.737032063116</td>\n",
       "      <td>60109.10360365422</td>\n",
       "      <td>2000</td>\n",
       "      <td>2065902</td>\n",
       "    </tr>\n",
       "  </tbody>\n",
       "</table>\n",
       "</div>"
      ],
      "text/plain": [
       "                       0  ...                   4\n",
       "summary            count  ...                 max\n",
       "Make               11914  ...               Volvo\n",
       "Model              11914  ...                  xD\n",
       "Year               11914  ...                2017\n",
       "Engine Fuel Type   11911  ...    regular unleaded\n",
       "Engine HP          11845  ...                1001\n",
       "Engine Cylinders   11884  ...                  16\n",
       "Transmission Type  11914  ...             UNKNOWN\n",
       "Driven_Wheels      11914  ...    rear wheel drive\n",
       "Number of Doors    11908  ...                   4\n",
       "Market Category    11914  ...  Performance,Hybrid\n",
       "Vehicle Size       11914  ...             Midsize\n",
       "Vehicle Style      11914  ...               Wagon\n",
       "highway MPG        11914  ...                 354\n",
       "city mpg           11914  ...                 137\n",
       "Popularity         11914  ...                5657\n",
       "MSRP               11914  ...             2065902\n",
       "\n",
       "[17 rows x 5 columns]"
      ]
     },
     "execution_count": 52,
     "metadata": {
      "tags": []
     },
     "output_type": "execute_result"
    }
   ],
   "source": [
    "data.printSchema()\n",
    "data.describe().toPandas().transpose()"
   ]
  },
  {
   "cell_type": "code",
   "execution_count": null,
   "metadata": {
    "colab": {
     "base_uri": "https://localhost:8080/"
    },
    "id": "LHE-fU1HmKL0",
    "outputId": "d44d2bd9-68a3-487f-99ac-bc6bf33a0dba"
   },
   "outputs": [
    {
     "name": "stdout",
     "output_type": "stream",
     "text": [
      "+--------------------+\n",
      "|     Market Category|\n",
      "+--------------------+\n",
      "|Crossover,Flex Fu...|\n",
      "|Crossover,Exotic,...|\n",
      "|Hatchback,Factory...|\n",
      "|Crossover,Hatchba...|\n",
      "|Exotic,Flex Fuel,...|\n",
      "|           Hatchback|\n",
      "|Crossover,Hatchba...|\n",
      "|Factory Tuner,Lux...|\n",
      "|    Hatchback,Diesel|\n",
      "|    Crossover,Hybrid|\n",
      "|           Crossover|\n",
      "|Crossover,Factory...|\n",
      "|Hatchback,Luxury,...|\n",
      "|       Diesel,Luxury|\n",
      "|    Crossover,Diesel|\n",
      "|              Diesel|\n",
      "|    Flex Fuel,Diesel|\n",
      "|Luxury,Performanc...|\n",
      "|Exotic,Factory Tu...|\n",
      "|    Hatchback,Hybrid|\n",
      "|Crossover,Luxury,...|\n",
      "|Crossover,Flex Fu...|\n",
      "|  Exotic,Performance|\n",
      "|Crossover,Luxury,...|\n",
      "|    Flex Fuel,Hybrid|\n",
      "|Exotic,Flex Fuel,...|\n",
      "|Flex Fuel,Luxury,...|\n",
      "|    Hatchback,Luxury|\n",
      "|              Hybrid|\n",
      "|  Performance,Hybrid|\n",
      "|       Exotic,Luxury|\n",
      "|    Flex Fuel,Luxury|\n",
      "|       Luxury,Hybrid|\n",
      "|           Flex Fuel|\n",
      "|Luxury,High-Perfo...|\n",
      "|Crossover,Factory...|\n",
      "| Crossover,Hatchback|\n",
      "|Crossover,Exotic,...|\n",
      "|Crossover,Hatchba...|\n",
      "|                 N/A|\n",
      "|Factory Tuner,Lux...|\n",
      "|Exotic,High-Perfo...|\n",
      "|Exotic,Luxury,Hig...|\n",
      "|Crossover,Flex Fu...|\n",
      "|  Luxury,Performance|\n",
      "|Factory Tuner,Luxury|\n",
      "|Exotic,Luxury,Hig...|\n",
      "|Flex Fuel,Perform...|\n",
      "|Flex Fuel,Factory...|\n",
      "|Crossover,Luxury,...|\n",
      "+--------------------+\n",
      "only showing top 50 rows\n",
      "\n"
     ]
    }
   ],
   "source": [
    "data.select('Market Category').distinct().show(50)"
   ]
  },
  {
   "cell_type": "code",
   "execution_count": null,
   "metadata": {
    "id": "lZW0ZVFbpQGG"
   },
   "outputs": [],
   "source": [
    "def replace(column, value):\n",
    "  return when(column != value, column).otherwise(lit(None))\n",
    "# Replace all strings \"N/A\" with None in Market Category column\n",
    "data = data.withColumn('Market Category', replace(col(\"Market Category\"), \"N/A\")) "
   ]
  },
  {
   "cell_type": "code",
   "execution_count": null,
   "metadata": {
    "colab": {
     "base_uri": "https://localhost:8080/"
    },
    "id": "6N8KazmQm5zS",
    "outputId": "caf45bbe-3788-4dcc-eae9-77c2a9505916"
   },
   "outputs": [
    {
     "name": "stdout",
     "output_type": "stream",
     "text": [
      "+----+-----+----+----------------+---------+----------------+-----------------+-------------+---------------+---------------+------------+-------------+-----------+--------+----------+----+\n",
      "|Make|Model|Year|Engine Fuel Type|Engine HP|Engine Cylinders|Transmission Type|Driven_Wheels|Number of Doors|Market Category|Vehicle Size|Vehicle Style|highway MPG|city mpg|Popularity|MSRP|\n",
      "+----+-----+----+----------------+---------+----------------+-----------------+-------------+---------------+---------------+------------+-------------+-----------+--------+----------+----+\n",
      "|   0|    0|   0|               3|       69|              30|                0|            0|              6|           3742|           0|            0|          0|       0|         0|   0|\n",
      "+----+-----+----+----------------+---------+----------------+-----------------+-------------+---------------+---------------+------------+-------------+-----------+--------+----------+----+\n",
      "\n"
     ]
    }
   ],
   "source": [
    "data.select([count(when(isnan(c) | col(c).isNull(), c)).alias(c) for c in data.columns]).show()"
   ]
  },
  {
   "cell_type": "code",
   "execution_count": null,
   "metadata": {
    "colab": {
     "base_uri": "https://localhost:8080/"
    },
    "id": "gDBl1pxGnQAt",
    "outputId": "b19006dc-678f-42dd-f3de-3bbddba3939e"
   },
   "outputs": [
    {
     "name": "stdout",
     "output_type": "stream",
     "text": [
      "(11812, 15)\n"
     ]
    }
   ],
   "source": [
    "data = data.drop('Market Category')\n",
    "data = data.na.drop()\n",
    "print((data.count(), len(data.columns)))"
   ]
  },
  {
   "cell_type": "markdown",
   "metadata": {},
   "source": [
    "## 3 - Build the VectorAssembler and RandomForestRegressor pipeline"
   ]
  },
  {
   "cell_type": "code",
   "execution_count": null,
   "metadata": {
    "colab": {
     "base_uri": "https://localhost:8080/"
    },
    "id": "LpYF60YfnyRM",
    "outputId": "9687bfd5-0a47-441d-94b6-e8a634851e6a"
   },
   "outputs": [
    {
     "name": "stdout",
     "output_type": "stream",
     "text": [
      "data.csv  sample_data\t\t     spark-2.4.8-bin-hadoop2.7.tgz\n",
      "pipeline  spark-2.4.8-bin-hadoop2.7  spark-warehouse\n"
     ]
    }
   ],
   "source": [
    "assembler = VectorAssembler(inputCols=['Year', 'Engine HP', 'Engine Cylinders',\n",
    "                                       'Number of Doors', 'highway MPG', 'city mpg', 'Popularity'],\n",
    "                                       outputCol='Attributes')\n",
    "regressor = RandomForestRegressor(featuresCol='Attributes', labelCol='MSRP')\n",
    "pipeline = Pipeline(stages=[assembler, regressor])\n",
    "pipeline.write().overwrite().save(\"pipeline\")\n",
    "!ls"
   ]
  },
  {
   "cell_type": "markdown",
   "metadata": {},
   "source": [
    "## 4 - Perform hyperparameter search and cross-validation"
   ]
  },
  {
   "cell_type": "code",
   "execution_count": null,
   "metadata": {
    "id": "_iWCZH2RxS2h"
   },
   "outputs": [],
   "source": [
    "pipelineModel = Pipeline.load(\"pipeline\")\n",
    "paramGrid = ParamGridBuilder() \\\n",
    "  .addGrid(regressor.numTrees, [100, 500]) \\\n",
    "  .build()\n",
    "crossval = CrossValidator(estimator=pipelineModel,\n",
    "                          estimatorParamMaps=paramGrid,\n",
    "                          evaluator=RegressionEvaluator(labelCol='MSRP'),\n",
    "                          numFolds=3)"
   ]
  },
  {
   "cell_type": "code",
   "execution_count": null,
   "metadata": {
    "id": "cse5Wm8axSX5"
   },
   "outputs": [],
   "source": [
    "train_data, test_data = data.randomSplit([0.8, 0.2], seed = 123)\n",
    "cvModel = crossval.fit(train_data)"
   ]
  },
  {
   "cell_type": "markdown",
   "metadata": {},
   "source": [
    "## 5 - Select the best model and output evaluation metrics"
   ]
  },
  {
   "cell_type": "code",
   "execution_count": null,
   "metadata": {
    "colab": {
     "base_uri": "https://localhost:8080/"
    },
    "id": "dfpv9xpXxSOE",
    "outputId": "5728d2d6-208f-4278-ab95-967bf388b8d2"
   },
   "outputs": [
    {
     "name": "stdout",
     "output_type": "stream",
     "text": [
      "VectorAssembler_02095512be72\n",
      "RandomForestRegressionModel (uid=RandomForestRegressor_0262aa570834) with 100 trees\n"
     ]
    }
   ],
   "source": [
    "bestModel = cvModel.bestModel\n",
    "for x in range(len(bestModel.stages)):\n",
    "  print(bestModel.stages[x])"
   ]
  },
  {
   "cell_type": "code",
   "execution_count": null,
   "metadata": {
    "colab": {
     "base_uri": "https://localhost:8080/"
    },
    "id": "hZJZDYKvxSBw",
    "outputId": "16ee14b9-58e6-4abb-fc23-2e04fb208e87"
   },
   "outputs": [
    {
     "name": "stdout",
     "output_type": "stream",
     "text": [
      "+-----+------------------+\n",
      "| MSRP|        prediction|\n",
      "+-----+------------------+\n",
      "|29980| 33520.50318815142|\n",
      "|28030| 33764.56824182833|\n",
      "|30030| 33764.56824182833|\n",
      "|32700| 36962.77688336396|\n",
      "|29350|23317.806801819188|\n",
      "|31890|28343.501912763575|\n",
      "|34980|28343.501912763575|\n",
      "| 2799| 4853.701507592904|\n",
      "| 2827| 5592.605869786248|\n",
      "| 3381| 6871.760433015199|\n",
      "|24450|27636.626726629707|\n",
      "|21050| 23523.81375519454|\n",
      "| 2000| 6084.278178374128|\n",
      "| 2181| 8169.680770744279|\n",
      "| 2144| 5955.590712228466|\n",
      "| 2265|  8202.59832982066|\n",
      "|56780| 39272.98522006589|\n",
      "|49440| 39272.98522006589|\n",
      "|50640| 39272.98522006589|\n",
      "|52640| 39272.98522006589|\n",
      "+-----+------------------+\n",
      "only showing top 20 rows\n",
      "\n"
     ]
    }
   ],
   "source": [
    "pred = cvModel.transform(test_data)\n",
    "pred.select('MSRP', 'prediction').show()"
   ]
  },
  {
   "cell_type": "code",
   "execution_count": null,
   "metadata": {
    "colab": {
     "base_uri": "https://localhost:8080/"
    },
    "id": "LIH5WXTgxRzP",
    "outputId": "83ee74d7-f2eb-4b5a-d13f-7a419a19a88a"
   },
   "outputs": [
    {
     "name": "stdout",
     "output_type": "stream",
     "text": [
      "RMSE: 16866.995\n",
      "MSE: 284495514.942\n",
      "MAE: 8413.007\n",
      "r2: 0.875\n"
     ]
    }
   ],
   "source": [
    "eval = RegressionEvaluator(labelCol='MSRP')\n",
    "rmse = eval.evaluate(pred)\n",
    "mse = eval.evaluate(pred, {eval.metricName: 'mse'})\n",
    "mae = eval.evaluate(pred, {eval.metricName: 'mae'})\n",
    "r2 = eval.evaluate(pred, {eval.metricName: 'r2'})\n",
    "\n",
    "print(\"RMSE: %.3f\" %rmse)\n",
    "print(\"MSE: %.3f\" %mse)\n",
    "print(\"MAE: %.3f\" %mae)\n",
    "print(\"r2: %.3f\" %r2)"
   ]
  },
  {
   "cell_type": "markdown",
   "metadata": {
    "id": "WUJDHdnJ8XIl"
   },
   "source": [
    "## 6 - Next steps \n",
    "To further improve model performance, we can:\n",
    "- Parse and encode the Market Category column into features for training\n",
    "- Expand the grid search to more numTrees parameters\n",
    "- Use different parameters for the gridsearch such as maxDepth\n",
    "- Try out other algorithms (XGBoost, Neural Networks)\n",
    "- Increase number of folds for cross-validation"
   ]
  },
  {
   "cell_type": "code",
   "execution_count": null,
   "metadata": {},
   "outputs": [],
   "source": []
  }
 ],
 "metadata": {
  "colab": {
   "collapsed_sections": [],
   "name": "code_empty.ipynb",
   "provenance": []
  },
  "kernelspec": {
   "display_name": "Python 3",
   "language": "python",
   "name": "python3"
  },
  "language_info": {
   "codemirror_mode": {
    "name": "ipython",
    "version": 3
   },
   "file_extension": ".py",
   "mimetype": "text/x-python",
   "name": "python",
   "nbconvert_exporter": "python",
   "pygments_lexer": "ipython3",
   "version": "3.7.3"
  },
  "varInspector": {
   "cols": {
    "lenName": 16,
    "lenType": 16,
    "lenVar": 40
   },
   "kernels_config": {
    "python": {
     "delete_cmd_postfix": "",
     "delete_cmd_prefix": "del ",
     "library": "var_list.py",
     "varRefreshCmd": "print(var_dic_list())"
    },
    "r": {
     "delete_cmd_postfix": ") ",
     "delete_cmd_prefix": "rm(",
     "library": "var_list.r",
     "varRefreshCmd": "cat(var_dic_list()) "
    }
   },
   "types_to_exclude": [
    "module",
    "function",
    "builtin_function_or_method",
    "instance",
    "_Feature"
   ],
   "window_display": false
  }
 },
 "nbformat": 4,
 "nbformat_minor": 1
}
